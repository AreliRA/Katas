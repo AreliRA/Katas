{
 "cells": [
  {
   "cell_type": "code",
   "execution_count": 1,
   "metadata": {},
   "outputs": [
    {
     "name": "stdout",
     "output_type": "stream",
     "text": [
      "Un asteroide se acerca, y viaja a una velocidad de 49 km/s.\n"
     ]
    }
   ],
   "source": [
    "v = 49\n",
    "if v > 25:\n",
    "    print ('Un asteroide se acerca, y viaja a una velocidad de 49 km/s.')\n",
    "else:\n",
    "    print ('continua tranquilo')"
   ]
  },
  {
   "cell_type": "code",
   "execution_count": 2,
   "metadata": {},
   "outputs": [
    {
     "name": "stdout",
     "output_type": "stream",
     "text": [
      "¡Hay uno que se dirige a la tierra ahora a una velocidad de 19 km/s!\n"
     ]
    }
   ],
   "source": [
    "v = 19\n",
    "if v >= 19:\n",
    "    if v == 19:\n",
    "        print ('¡Hay uno que se dirige a la tierra ahora a una velocidad de 19 km/s!')\n",
    "elif v < 19:\n",
    "    print ('continua tranquilo')"
   ]
  },
  {
   "cell_type": "code",
   "execution_count": 3,
   "metadata": {},
   "outputs": [
    {
     "name": "stdout",
     "output_type": "stream",
     "text": [
      "cuidado se acerca un asteroide que podria causar daño\n"
     ]
    }
   ],
   "source": [
    "t = 26\n",
    "v = 29\n",
    "if t > 25 and  v > 25:\n",
    "    print ('cuidado se acerca un asteroide que podria causar daño')\n",
    "elif v >= 20:\n",
    "            print ('observa el cielo, disfruta el paisaje')\n",
    "else:\n",
    "    print ('continua tranquilo')"
   ]
  }
 ],
 "metadata": {
  "interpreter": {
   "hash": "7572866970276780727ea4a4612d266f27ddd2a55b17df9997236d4e0f6e3ea0"
  },
  "kernelspec": {
   "display_name": "Python 3.9.10 64-bit",
   "language": "python",
   "name": "python3"
  },
  "language_info": {
   "codemirror_mode": {
    "name": "ipython",
    "version": 3
   },
   "file_extension": ".py",
   "mimetype": "text/x-python",
   "name": "python",
   "nbconvert_exporter": "python",
   "pygments_lexer": "ipython3",
   "version": "3.9.10"
  },
  "orig_nbformat": 4
 },
 "nbformat": 4,
 "nbformat_minor": 2
}
